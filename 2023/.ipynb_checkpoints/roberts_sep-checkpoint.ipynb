{
 "cells": [
  {
   "cell_type": "code",
   "execution_count": 1,
   "id": "9d7fbb84-306a-416b-aca1-52d0598c443f",
   "metadata": {},
   "outputs": [
    {
     "name": "stdout",
     "output_type": "stream",
     "text": [
      "Processed: 22-193_8nk0_cleaned.txt, Number of occurrences: 42\n",
      "Processed: 22-324_fe9g_cleaned.txt, Number of occurrences: 27\n",
      "Processed: 22-340_ca7d_cleaned.txt, Number of occurrences: 26\n",
      "Processed: 22-429_4315_cleaned.txt, Number of occurrences: 34\n",
      "Processed: 22-448_4f15_cleaned.txt, Number of occurrences: 18\n",
      "Processed: 22-500_1o23_cleaned.txt, Number of occurrences: 15\n",
      "Processed: 22-585_7648_cleaned.txt, Number of occurrences: 24\n",
      "Processed: 22-611_1b8e_cleaned.txt, Number of occurrences: 21\n",
      "Processed: 22-6389_8n59_cleaned.txt, Number of occurrences: 23\n",
      "Processed: 22-660_apm1_cleaned.txt, Number of occurrences: 29\n",
      "Processed: 22-666_f2ah_cleaned.txt, Number of occurrences: 23\n",
      "Processed: 22-704_g3bi_cleaned.txt, Number of occurrences: 17\n",
      "Processed: 22-721_3e04_cleaned.txt, Number of occurrences: 24\n",
      "Processed: 22-800_097c_cleaned.txt, Number of occurrences: 24\n",
      "Processed: 22-807_o7jp_cleaned.txt, Number of occurrences: 43\n",
      "Processed: 22-846_b07d_cleaned.txt, Number of occurrences: 25\n",
      "Processed: 22-859_n758_cleaned.txt, Number of occurrences: 37\n",
      "Processed: 22-888_3ebh_cleaned.txt, Number of occurrences: 28\n",
      "Processed: 22-915_986b_cleaned.txt, Number of occurrences: 25\n",
      "Processed: 23-124_h315_cleaned.txt, Number of occurrences: 43\n"
     ]
    }
   ],
   "source": [
    "import re\n",
    "import os\n",
    "\n",
    "def extract_text_between_markers(input_text):\n",
    "    # Use a regular expression to capture all text between \"CHIEF JUSTICE ROBERTS:\" and the next occurrence of \"MR.\", \"MRS.\", \"MS.\", or \"JUSTICE\"\n",
    "    pattern = re.compile(r'CHIEF JUSTICE ROBERTS:(.*?)(?:MR\\.|MRS\\.|MS\\.|JUSTICE\\b|$)')\n",
    "    matches = pattern.finditer(input_text)\n",
    "    count = 0\n",
    "    text = \"\"\n",
    "\n",
    "    for match in matches:\n",
    "        # Extract the matched text\n",
    "        extracted_text = match.group(1).strip()\n",
    "        text += extracted_text\n",
    "        count += 1\n",
    "\n",
    "    # Remove all text following the phrase \"Heritage Reporting Corporation Official $\"\n",
    "    end_marker = \"Heritage Reporting Corporation\"\n",
    "    end_index = text.find(end_marker)\n",
    "    if end_index != -1:\n",
    "        text = text[:end_index]\n",
    "\n",
    "    return text, count\n",
    "\n",
    "def process_and_save_text(input_folder, output_folder):\n",
    "    # Process all text files in the input folder\n",
    "    for txt_file in os.listdir(input_folder):\n",
    "        if txt_file.lower().endswith('.txt'):\n",
    "            txt_path = os.path.join(input_folder, txt_file)\n",
    "\n",
    "            # Generate a unique name for the output text file\n",
    "            extracted_filename = os.path.splitext(txt_file)[0] + '_extracted.txt'\n",
    "            extracted_path = os.path.join(output_folder, extracted_filename)\n",
    "\n",
    "            # Read text from the file\n",
    "            with open(txt_path, 'r') as file:\n",
    "                input_text = file.read()\n",
    "\n",
    "            # Extract relevant text and count occurrences\n",
    "            extracted_text, occurrences = extract_text_between_markers(input_text)\n",
    "\n",
    "            # Save the extracted text to a new file\n",
    "            with open(extracted_path, 'w') as file:\n",
    "                file.write(extracted_text)\n",
    "\n",
    "            print(f\"Processed: {txt_file}, Number of occurrences: {occurrences}\")\n",
    "\n",
    "# Input and output folders\n",
    "input_folder = 'text_files'\n",
    "output_folder = 'roberts'\n",
    "\n",
    "# Create the output directory if it doesn't exist\n",
    "os.makedirs(output_folder, exist_ok=True)\n",
    "\n",
    "# Process and save text from input_folder to output_folder\n",
    "process_and_save_text(input_folder, output_folder)"
   ]
  },
  {
   "cell_type": "code",
   "execution_count": null,
   "id": "0c547f91-e434-4f72-8241-c6f13fdb34b5",
   "metadata": {},
   "outputs": [],
   "source": []
  }
 ],
 "metadata": {
  "kernelspec": {
   "display_name": "Python 3 (ipykernel)",
   "language": "python",
   "name": "python3"
  },
  "language_info": {
   "codemirror_mode": {
    "name": "ipython",
    "version": 3
   },
   "file_extension": ".py",
   "mimetype": "text/x-python",
   "name": "python",
   "nbconvert_exporter": "python",
   "pygments_lexer": "ipython3",
   "version": "3.10.12"
  }
 },
 "nbformat": 4,
 "nbformat_minor": 5
}
