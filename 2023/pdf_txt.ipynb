{
 "cells": [
  {
   "cell_type": "code",
   "execution_count": 1,
   "id": "b5edc145-fb01-470e-bf1f-e8ad9a9dc100",
   "metadata": {},
   "outputs": [],
   "source": [
    "import fitz  # PyMuPDF\n",
    "import re\n",
    "import os\n",
    "\n",
    "def convert_pdf_to_txt(pdf_path, txt_path):\n",
    "    text = \"\"\n",
    "    with fitz.open(pdf_path) as pdf_document:\n",
    "        total_pages = pdf_document.page_count\n",
    "\n",
    "        for page_num in range(total_pages):\n",
    "            page = pdf_document[page_num]\n",
    "            page_text = page.get_text()\n",
    "            text += page_text\n",
    "\n",
    "    # Remove extra numbers and spaces\n",
    "    cleaned_text = re.sub(r'\\s+', ' ', re.sub(r'\\d+', '', text.strip()))\n",
    "\n",
    "    # Save the cleaned text to a txt file\n",
    "    with open(txt_path, 'w') as file:\n",
    "        file.write(cleaned_text)\n",
    "\n",
    "def process_pdfs(input_folder, output_folder):\n",
    "    # Process all PDF files in the input folder\n",
    "    for pdf_file in os.listdir(input_folder):\n",
    "        if pdf_file.lower().endswith('.pdf'):\n",
    "            pdf_path = os.path.join(input_folder, pdf_file)\n",
    "\n",
    "            # Generate a unique name for the output text file\n",
    "            txt_filename = os.path.splitext(pdf_file)[0] + '_cleaned.txt'\n",
    "            txt_path = os.path.join(output_folder, txt_filename)\n",
    "\n",
    "            # Convert PDF to cleaned text file\n",
    "            convert_pdf_to_txt(pdf_path, txt_path)\n",
    "\n",
    "# Usage example\n",
    "input_folder = 'arguments/'\n",
    "output_folder = 'text_files/'\n",
    "\n",
    "# Create the output directory if it doesn't exist\n",
    "os.makedirs(output_folder, exist_ok=True)\n",
    "\n",
    "process_pdfs(input_folder, output_folder)\n"
   ]
  },
  {
   "cell_type": "code",
   "execution_count": null,
   "id": "acf0e3e2-19ff-49e6-8e75-0c49d5ffbccf",
   "metadata": {},
   "outputs": [],
   "source": []
  }
 ],
 "metadata": {
  "kernelspec": {
   "display_name": "Python 3 (ipykernel)",
   "language": "python",
   "name": "python3"
  },
  "language_info": {
   "codemirror_mode": {
    "name": "ipython",
    "version": 3
   },
   "file_extension": ".py",
   "mimetype": "text/x-python",
   "name": "python",
   "nbconvert_exporter": "python",
   "pygments_lexer": "ipython3",
   "version": "3.10.12"
  }
 },
 "nbformat": 4,
 "nbformat_minor": 5
}
