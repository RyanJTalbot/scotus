{
 "cells": [
  {
   "cell_type": "markdown",
   "id": "f41841df-e21c-4a2d-85b2-d4902d1696d2",
   "metadata": {},
   "source": [
    "How to separate text by speaker"
   ]
  },
  {
   "cell_type": "code",
   "execution_count": null,
   "id": "c9ae5093-8fea-4238-a7bc-5fde667e2bc3",
   "metadata": {},
   "outputs": [],
   "source": []
  }
 ],
 "metadata": {
  "kernelspec": {
   "display_name": "Python 3 (ipykernel)",
   "language": "python",
   "name": "python3"
  },
  "language_info": {
   "codemirror_mode": {
    "name": "ipython",
    "version": 3
   },
   "file_extension": ".py",
   "mimetype": "text/x-python",
   "name": "python",
   "nbconvert_exporter": "python",
   "pygments_lexer": "ipython3",
   "version": "3.10.0"
  }
 },
 "nbformat": 4,
 "nbformat_minor": 5
}
