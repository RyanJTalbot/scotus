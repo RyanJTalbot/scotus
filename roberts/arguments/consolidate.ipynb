{
 "cells": [
  {
   "cell_type": "code",
   "execution_count": 1,
   "id": "cfea9317-a789-4aa6-bc01-78cf58cda8b9",
   "metadata": {},
   "outputs": [],
   "source": [
    "import os\n",
    "import glob\n",
    "\n"
   ]
  },
  {
   "cell_type": "code",
   "execution_count": 2,
   "id": "fcf7aa92-99ab-4946-a5e2-cab17835ea5f",
   "metadata": {},
   "outputs": [
    {
     "name": "stdout",
     "output_type": "stream",
     "text": [
      "Consolidation complete. Consolidated file saved at roberts_arguments.txt\n"
     ]
    }
   ],
   "source": [
    "import os\n",
    "\n",
    "# Specify the paths for the input text files\n",
    "file_path_1 = 'roberts22/roberts22.txt'\n",
    "file_path_2 = 'roberts23/roberts23.txt'\n",
    "\n",
    "# Specify the path for the consolidated file\n",
    "consolidated_file_path = 'roberts_arguments.txt'\n",
    "\n",
    "# Open the consolidated file in write mode\n",
    "with open(consolidated_file_path, 'w') as consolidated_file:\n",
    "    # Read and write the content of the first file\n",
    "    with open(file_path_1, 'r') as file_1:\n",
    "        consolidated_file.write(file_1.read())\n",
    "\n",
    "    # Add a separator (e.g., a newline) between the content of the two files\n",
    "    consolidated_file.write('\\n')\n",
    "\n",
    "    # Read and write the content of the second file\n",
    "    with open(file_path_2, 'r') as file_2:\n",
    "        consolidated_file.write(file_2.read())\n",
    "\n",
    "print(f'Consolidation complete. Consolidated file saved at {consolidated_file_path}')\n"
   ]
  },
  {
   "cell_type": "code",
   "execution_count": null,
   "id": "ccf5503a-9397-4496-a473-7f7314cd62a1",
   "metadata": {},
   "outputs": [],
   "source": []
  }
 ],
 "metadata": {
  "kernelspec": {
   "display_name": "Python 3 (ipykernel)",
   "language": "python",
   "name": "python3"
  },
  "language_info": {
   "codemirror_mode": {
    "name": "ipython",
    "version": 3
   },
   "file_extension": ".py",
   "mimetype": "text/x-python",
   "name": "python",
   "nbconvert_exporter": "python",
   "pygments_lexer": "ipython3",
   "version": "3.10.12"
  }
 },
 "nbformat": 4,
 "nbformat_minor": 5
}
