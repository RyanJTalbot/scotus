{
 "cells": [
  {
   "cell_type": "code",
   "execution_count": 1,
   "id": "4138ca86-4fb2-43b8-9b9e-73ef90206911",
   "metadata": {},
   "outputs": [],
   "source": [
    "import os\n",
    "import glob\n",
    "\n"
   ]
  },
  {
   "cell_type": "code",
   "execution_count": 2,
   "id": "80ab7da9-c22b-4b56-89e6-8527279116a5",
   "metadata": {},
   "outputs": [
    {
     "name": "stdout",
     "output_type": "stream",
     "text": [
      "Consolidation complete. Consolidated file saved at ./roberts23.txt\n"
     ]
    }
   ],
   "source": [
    "\n",
    "# Specify the folder containing your text files (use '.' for the current directory)\n",
    "folder_path = '.'\n",
    "\n",
    "# Specify the path for the consolidated file in the same directory\n",
    "consolidated_file_path = './roberts23.txt'\n",
    "\n",
    "# Open the consolidated file in write mode\n",
    "with open(consolidated_file_path, 'w') as consolidated_file:\n",
    "    # Use glob to get a list of all text files in the folder\n",
    "    txt_files = glob.glob(os.path.join(folder_path, '*.txt'))\n",
    "\n",
    "    # Loop through each text file\n",
    "    for txt_file in txt_files:\n",
    "        with open(txt_file, 'r') as current_file:\n",
    "            # Read the content of the current file and write it to the consolidated file\n",
    "            consolidated_file.write(current_file.read())\n",
    "\n",
    "print(f'Consolidation complete. Consolidated file saved at {consolidated_file_path}')\n"
   ]
  },
  {
   "cell_type": "code",
   "execution_count": null,
   "id": "dcc7046e-6b69-43ca-8dcc-4b0560a395a3",
   "metadata": {},
   "outputs": [],
   "source": []
  }
 ],
 "metadata": {
  "kernelspec": {
   "display_name": "Python 3 (ipykernel)",
   "language": "python",
   "name": "python3"
  },
  "language_info": {
   "codemirror_mode": {
    "name": "ipython",
    "version": 3
   },
   "file_extension": ".py",
   "mimetype": "text/x-python",
   "name": "python",
   "nbconvert_exporter": "python",
   "pygments_lexer": "ipython3",
   "version": "3.10.12"
  }
 },
 "nbformat": 4,
 "nbformat_minor": 5
}
